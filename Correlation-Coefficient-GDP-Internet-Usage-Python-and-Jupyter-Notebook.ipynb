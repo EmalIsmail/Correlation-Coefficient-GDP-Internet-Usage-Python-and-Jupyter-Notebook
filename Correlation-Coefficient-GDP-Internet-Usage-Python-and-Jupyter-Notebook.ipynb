{
 "cells": [
  {
   "cell_type": "markdown",
   "id": "1f45f6cb",
   "metadata": {},
   "source": [
    "# PDF of Jupyter Notebook Codes"
   ]
  },
  {
   "cell_type": "markdown",
   "id": "0b34b2d4",
   "metadata": {},
   "source": [
    "### Research quesiton: Is there a relationship between internet adoption and GDP per capita in Afghanistan?"
   ]
  },
  {
   "cell_type": "code",
   "execution_count": 1,
   "id": "5b268675",
   "metadata": {},
   "outputs": [],
   "source": [
    "import pandas as pd\n",
    "import numpy as np\n",
    "import matplotlib.pyplot as plt"
   ]
  },
  {
   "cell_type": "markdown",
   "id": "166e469e",
   "metadata": {},
   "source": [
    "### The World Development Indicators Dataset has been used.\n",
    "#### Data Source: https://www.kaggle.com/worldbank/world-development-indicators"
   ]
  },
  {
   "cell_type": "code",
   "execution_count": 2,
   "id": "fe59ceba",
   "metadata": {},
   "outputs": [],
   "source": [
    "data = pd.read_csv('./Indicators.csv')"
   ]
  },
  {
   "cell_type": "code",
   "execution_count": 6,
   "id": "724e0904",
   "metadata": {},
   "outputs": [],
   "source": [
    "mask1 = data['IndicatorName'].str.contains('Internet users \\(per')\n",
    "mask2 = data['CountryCode'].str.contains('AFG')\n",
    "\n",
    "net_user_stage = data[mask1 & mask2]"
   ]
  },
  {
   "cell_type": "code",
   "execution_count": 7,
   "id": "a4422d5f",
   "metadata": {
    "scrolled": true
   },
   "outputs": [
    {
     "name": "stderr",
     "output_type": "stream",
     "text": [
      "/var/folders/88/vlrz89sn15jdmcdgfjsnyvjw0000gn/T/ipykernel_61648/3089586413.py:1: SettingWithCopyWarning: \n",
      "A value is trying to be set on a copy of a slice from a DataFrame\n",
      "\n",
      "See the caveats in the documentation: https://pandas.pydata.org/pandas-docs/stable/user_guide/indexing.html#returning-a-view-versus-a-copy\n",
      "  net_user_stage.drop(net_user_stage.index[0:4], inplace=True)\n"
     ]
    }
   ],
   "source": [
    "#Dropping rows to match the size of stages for scatter plot and correlation analysis.\n",
    "\n",
    "net_user_stage.drop(net_user_stage.index[0:4], inplace=True)"
   ]
  },
  {
   "cell_type": "code",
   "execution_count": 9,
   "id": "be40063b",
   "metadata": {
    "scrolled": true
   },
   "outputs": [
    {
     "data": {
      "text/html": [
       "<div>\n",
       "<style scoped>\n",
       "    .dataframe tbody tr th:only-of-type {\n",
       "        vertical-align: middle;\n",
       "    }\n",
       "\n",
       "    .dataframe tbody tr th {\n",
       "        vertical-align: top;\n",
       "    }\n",
       "\n",
       "    .dataframe thead th {\n",
       "        text-align: right;\n",
       "    }\n",
       "</style>\n",
       "<table border=\"1\" class=\"dataframe\">\n",
       "  <thead>\n",
       "    <tr style=\"text-align: right;\">\n",
       "      <th></th>\n",
       "      <th>CountryName</th>\n",
       "      <th>CountryCode</th>\n",
       "      <th>IndicatorName</th>\n",
       "      <th>IndicatorCode</th>\n",
       "      <th>Year</th>\n",
       "      <th>Value</th>\n",
       "    </tr>\n",
       "  </thead>\n",
       "  <tbody>\n",
       "    <tr>\n",
       "      <th>3803824</th>\n",
       "      <td>Afghanistan</td>\n",
       "      <td>AFG</td>\n",
       "      <td>Internet users (per 100 people)</td>\n",
       "      <td>IT.NET.USER.P2</td>\n",
       "      <td>2004</td>\n",
       "      <td>0.105809</td>\n",
       "    </tr>\n",
       "    <tr>\n",
       "      <th>3965063</th>\n",
       "      <td>Afghanistan</td>\n",
       "      <td>AFG</td>\n",
       "      <td>Internet users (per 100 people)</td>\n",
       "      <td>IT.NET.USER.P2</td>\n",
       "      <td>2005</td>\n",
       "      <td>1.224148</td>\n",
       "    </tr>\n",
       "    <tr>\n",
       "      <th>4144939</th>\n",
       "      <td>Afghanistan</td>\n",
       "      <td>AFG</td>\n",
       "      <td>Internet users (per 100 people)</td>\n",
       "      <td>IT.NET.USER.P2</td>\n",
       "      <td>2006</td>\n",
       "      <td>2.107124</td>\n",
       "    </tr>\n",
       "    <tr>\n",
       "      <th>4322565</th>\n",
       "      <td>Afghanistan</td>\n",
       "      <td>AFG</td>\n",
       "      <td>Internet users (per 100 people)</td>\n",
       "      <td>IT.NET.USER.P2</td>\n",
       "      <td>2007</td>\n",
       "      <td>1.900000</td>\n",
       "    </tr>\n",
       "    <tr>\n",
       "      <th>4502900</th>\n",
       "      <td>Afghanistan</td>\n",
       "      <td>AFG</td>\n",
       "      <td>Internet users (per 100 people)</td>\n",
       "      <td>IT.NET.USER.P2</td>\n",
       "      <td>2008</td>\n",
       "      <td>1.840000</td>\n",
       "    </tr>\n",
       "    <tr>\n",
       "      <th>4682450</th>\n",
       "      <td>Afghanistan</td>\n",
       "      <td>AFG</td>\n",
       "      <td>Internet users (per 100 people)</td>\n",
       "      <td>IT.NET.USER.P2</td>\n",
       "      <td>2009</td>\n",
       "      <td>3.550000</td>\n",
       "    </tr>\n",
       "    <tr>\n",
       "      <th>4862506</th>\n",
       "      <td>Afghanistan</td>\n",
       "      <td>AFG</td>\n",
       "      <td>Internet users (per 100 people)</td>\n",
       "      <td>IT.NET.USER.P2</td>\n",
       "      <td>2010</td>\n",
       "      <td>4.000000</td>\n",
       "    </tr>\n",
       "    <tr>\n",
       "      <th>5047869</th>\n",
       "      <td>Afghanistan</td>\n",
       "      <td>AFG</td>\n",
       "      <td>Internet users (per 100 people)</td>\n",
       "      <td>IT.NET.USER.P2</td>\n",
       "      <td>2011</td>\n",
       "      <td>5.000000</td>\n",
       "    </tr>\n",
       "    <tr>\n",
       "      <th>5224089</th>\n",
       "      <td>Afghanistan</td>\n",
       "      <td>AFG</td>\n",
       "      <td>Internet users (per 100 people)</td>\n",
       "      <td>IT.NET.USER.P2</td>\n",
       "      <td>2012</td>\n",
       "      <td>5.454545</td>\n",
       "    </tr>\n",
       "    <tr>\n",
       "      <th>5397323</th>\n",
       "      <td>Afghanistan</td>\n",
       "      <td>AFG</td>\n",
       "      <td>Internet users (per 100 people)</td>\n",
       "      <td>IT.NET.USER.P2</td>\n",
       "      <td>2013</td>\n",
       "      <td>5.900000</td>\n",
       "    </tr>\n",
       "    <tr>\n",
       "      <th>5546581</th>\n",
       "      <td>Afghanistan</td>\n",
       "      <td>AFG</td>\n",
       "      <td>Internet users (per 100 people)</td>\n",
       "      <td>IT.NET.USER.P2</td>\n",
       "      <td>2014</td>\n",
       "      <td>6.390000</td>\n",
       "    </tr>\n",
       "  </tbody>\n",
       "</table>\n",
       "</div>"
      ],
      "text/plain": [
       "         CountryName CountryCode                    IndicatorName  \\\n",
       "3803824  Afghanistan         AFG  Internet users (per 100 people)   \n",
       "3965063  Afghanistan         AFG  Internet users (per 100 people)   \n",
       "4144939  Afghanistan         AFG  Internet users (per 100 people)   \n",
       "4322565  Afghanistan         AFG  Internet users (per 100 people)   \n",
       "4502900  Afghanistan         AFG  Internet users (per 100 people)   \n",
       "4682450  Afghanistan         AFG  Internet users (per 100 people)   \n",
       "4862506  Afghanistan         AFG  Internet users (per 100 people)   \n",
       "5047869  Afghanistan         AFG  Internet users (per 100 people)   \n",
       "5224089  Afghanistan         AFG  Internet users (per 100 people)   \n",
       "5397323  Afghanistan         AFG  Internet users (per 100 people)   \n",
       "5546581  Afghanistan         AFG  Internet users (per 100 people)   \n",
       "\n",
       "          IndicatorCode  Year     Value  \n",
       "3803824  IT.NET.USER.P2  2004  0.105809  \n",
       "3965063  IT.NET.USER.P2  2005  1.224148  \n",
       "4144939  IT.NET.USER.P2  2006  2.107124  \n",
       "4322565  IT.NET.USER.P2  2007  1.900000  \n",
       "4502900  IT.NET.USER.P2  2008  1.840000  \n",
       "4682450  IT.NET.USER.P2  2009  3.550000  \n",
       "4862506  IT.NET.USER.P2  2010  4.000000  \n",
       "5047869  IT.NET.USER.P2  2011  5.000000  \n",
       "5224089  IT.NET.USER.P2  2012  5.454545  \n",
       "5397323  IT.NET.USER.P2  2013  5.900000  \n",
       "5546581  IT.NET.USER.P2  2014  6.390000  "
      ]
     },
     "execution_count": 9,
     "metadata": {},
     "output_type": "execute_result"
    }
   ],
   "source": [
    "#Internet User indicator table from 2004 to 2014.\n",
    "net_user_stage"
   ]
  },
  {
   "cell_type": "markdown",
   "id": "acd9e217",
   "metadata": {},
   "source": [
    "#### Figure 1. Internet user (per 100 people) indicator of Afghanistan from 2004 to 2014 Bar Chart."
   ]
  },
  {
   "cell_type": "code",
   "execution_count": 118,
   "id": "3fe00ff6",
   "metadata": {},
   "outputs": [
    {
     "data": {
      "image/png": "[encoded data removed]",
      "text/plain": [
       "<Figure size 432x288 with 1 Axes>"
      ]
     },
     "metadata": {
      "needs_background": "light"
     },
     "output_type": "display_data"
    }
   ],
   "source": [
    "# switch to a line plot\n",
    "plt.bar(net_user_stage['Year'].values, net_user_stage['Value'].values, color = '#fecea8')\n",
    "\n",
    "# Label the axes\n",
    "plt.xlabel('Year')\n",
    "plt.ylabel(net_user_stage['IndicatorName'].iloc[0])\n",
    "\n",
    "#label the figure\n",
    "plt.title('Internet user (per 100 people) of AFG from 2004 to 2014')\n",
    "\n",
    "# to make more honest, start they y axis at 0\n",
    "plt.axis([2003, 2015,0,7])\n",
    "\n",
    "# adding the annotations\n",
    "for y, x in zip(net_user_stage['Value'].values, net_user_stage['Year'].values):\n",
    "    plt.annotate(f'{int(y)}\\n',xycoords='data', xy=(x, y), ha='center', va='center')\n",
    "\n",
    "plt.show()"
   ]
  },
  {
   "cell_type": "code",
   "execution_count": 11,
   "id": "6931522d",
   "metadata": {},
   "outputs": [
    {
     "name": "stdout",
     "output_type": "stream",
     "text": [
      "2014\n"
     ]
    }
   ],
   "source": [
    "print(max(net_user_stage['Year'].values))"
   ]
  },
  {
   "cell_type": "code",
   "execution_count": 12,
   "id": "8ca838f9",
   "metadata": {},
   "outputs": [
    {
     "name": "stdout",
     "output_type": "stream",
     "text": [
      "2004\n"
     ]
    }
   ],
   "source": [
    "print(min(net_user_stage['Year'].values))"
   ]
  },
  {
   "cell_type": "code",
   "execution_count": 102,
   "id": "32a63fcf",
   "metadata": {},
   "outputs": [],
   "source": [
    "# gdp per capita"
   ]
  },
  {
   "cell_type": "code",
   "execution_count": 13,
   "id": "244332c2",
   "metadata": {},
   "outputs": [],
   "source": [
    "mask3 = data['IndicatorName'].str.contains('GDP per capita \\(constant 2005')\n",
    "mask4 = data['CountryCode'].str.contains('AFG')\n",
    "gdp_stage = data[mask3 & mask4]"
   ]
  },
  {
   "cell_type": "code",
   "execution_count": 38,
   "id": "2dbe507b",
   "metadata": {
    "scrolled": true
   },
   "outputs": [
    {
     "data": {
      "text/html": [
       "<div>\n",
       "<style scoped>\n",
       "    .dataframe tbody tr th:only-of-type {\n",
       "        vertical-align: middle;\n",
       "    }\n",
       "\n",
       "    .dataframe tbody tr th {\n",
       "        vertical-align: top;\n",
       "    }\n",
       "\n",
       "    .dataframe thead th {\n",
       "        text-align: right;\n",
       "    }\n",
       "</style>\n",
       "<table border=\"1\" class=\"dataframe\">\n",
       "  <thead>\n",
       "    <tr style=\"text-align: right;\">\n",
       "      <th></th>\n",
       "      <th>CountryName</th>\n",
       "      <th>CountryCode</th>\n",
       "      <th>IndicatorName</th>\n",
       "      <th>IndicatorCode</th>\n",
       "      <th>Year</th>\n",
       "      <th>Value</th>\n",
       "    </tr>\n",
       "  </thead>\n",
       "  <tbody>\n",
       "    <tr>\n",
       "      <th>3803733</th>\n",
       "      <td>Afghanistan</td>\n",
       "      <td>AFG</td>\n",
       "      <td>GDP per capita (constant 2005 US$)</td>\n",
       "      <td>NY.GDP.PCAP.KD</td>\n",
       "      <td>2004</td>\n",
       "      <td>240.184904</td>\n",
       "    </tr>\n",
       "    <tr>\n",
       "      <th>3964959</th>\n",
       "      <td>Afghanistan</td>\n",
       "      <td>AFG</td>\n",
       "      <td>GDP per capita (constant 2005 US$)</td>\n",
       "      <td>NY.GDP.PCAP.KD</td>\n",
       "      <td>2005</td>\n",
       "      <td>257.175795</td>\n",
       "    </tr>\n",
       "    <tr>\n",
       "      <th>4144830</th>\n",
       "      <td>Afghanistan</td>\n",
       "      <td>AFG</td>\n",
       "      <td>GDP per capita (constant 2005 US$)</td>\n",
       "      <td>NY.GDP.PCAP.KD</td>\n",
       "      <td>2006</td>\n",
       "      <td>263.012374</td>\n",
       "    </tr>\n",
       "    <tr>\n",
       "      <th>4322452</th>\n",
       "      <td>Afghanistan</td>\n",
       "      <td>AFG</td>\n",
       "      <td>GDP per capita (constant 2005 US$)</td>\n",
       "      <td>NY.GDP.PCAP.KD</td>\n",
       "      <td>2007</td>\n",
       "      <td>291.128823</td>\n",
       "    </tr>\n",
       "    <tr>\n",
       "      <th>4502763</th>\n",
       "      <td>Afghanistan</td>\n",
       "      <td>AFG</td>\n",
       "      <td>GDP per capita (constant 2005 US$)</td>\n",
       "      <td>NY.GDP.PCAP.KD</td>\n",
       "      <td>2008</td>\n",
       "      <td>294.238183</td>\n",
       "    </tr>\n",
       "    <tr>\n",
       "      <th>4682308</th>\n",
       "      <td>Afghanistan</td>\n",
       "      <td>AFG</td>\n",
       "      <td>GDP per capita (constant 2005 US$)</td>\n",
       "      <td>NY.GDP.PCAP.KD</td>\n",
       "      <td>2009</td>\n",
       "      <td>347.208097</td>\n",
       "    </tr>\n",
       "    <tr>\n",
       "      <th>4862365</th>\n",
       "      <td>Afghanistan</td>\n",
       "      <td>AFG</td>\n",
       "      <td>GDP per capita (constant 2005 US$)</td>\n",
       "      <td>NY.GDP.PCAP.KD</td>\n",
       "      <td>2010</td>\n",
       "      <td>366.324813</td>\n",
       "    </tr>\n",
       "    <tr>\n",
       "      <th>5047724</th>\n",
       "      <td>Afghanistan</td>\n",
       "      <td>AFG</td>\n",
       "      <td>GDP per capita (constant 2005 US$)</td>\n",
       "      <td>NY.GDP.PCAP.KD</td>\n",
       "      <td>2011</td>\n",
       "      <td>377.292766</td>\n",
       "    </tr>\n",
       "    <tr>\n",
       "      <th>5223950</th>\n",
       "      <td>Afghanistan</td>\n",
       "      <td>AFG</td>\n",
       "      <td>GDP per capita (constant 2005 US$)</td>\n",
       "      <td>NY.GDP.PCAP.KD</td>\n",
       "      <td>2012</td>\n",
       "      <td>418.426197</td>\n",
       "    </tr>\n",
       "    <tr>\n",
       "      <th>5397193</th>\n",
       "      <td>Afghanistan</td>\n",
       "      <td>AFG</td>\n",
       "      <td>GDP per capita (constant 2005 US$)</td>\n",
       "      <td>NY.GDP.PCAP.KD</td>\n",
       "      <td>2013</td>\n",
       "      <td>413.335227</td>\n",
       "    </tr>\n",
       "    <tr>\n",
       "      <th>5546497</th>\n",
       "      <td>Afghanistan</td>\n",
       "      <td>AFG</td>\n",
       "      <td>GDP per capita (constant 2005 US$)</td>\n",
       "      <td>NY.GDP.PCAP.KD</td>\n",
       "      <td>2014</td>\n",
       "      <td>406.248136</td>\n",
       "    </tr>\n",
       "  </tbody>\n",
       "</table>\n",
       "</div>"
      ],
      "text/plain": [
       "         CountryName CountryCode                       IndicatorName  \\\n",
       "3803733  Afghanistan         AFG  GDP per capita (constant 2005 US$)   \n",
       "3964959  Afghanistan         AFG  GDP per capita (constant 2005 US$)   \n",
       "4144830  Afghanistan         AFG  GDP per capita (constant 2005 US$)   \n",
       "4322452  Afghanistan         AFG  GDP per capita (constant 2005 US$)   \n",
       "4502763  Afghanistan         AFG  GDP per capita (constant 2005 US$)   \n",
       "4682308  Afghanistan         AFG  GDP per capita (constant 2005 US$)   \n",
       "4862365  Afghanistan         AFG  GDP per capita (constant 2005 US$)   \n",
       "5047724  Afghanistan         AFG  GDP per capita (constant 2005 US$)   \n",
       "5223950  Afghanistan         AFG  GDP per capita (constant 2005 US$)   \n",
       "5397193  Afghanistan         AFG  GDP per capita (constant 2005 US$)   \n",
       "5546497  Afghanistan         AFG  GDP per capita (constant 2005 US$)   \n",
       "\n",
       "          IndicatorCode  Year       Value  \n",
       "3803733  NY.GDP.PCAP.KD  2004  240.184904  \n",
       "3964959  NY.GDP.PCAP.KD  2005  257.175795  \n",
       "4144830  NY.GDP.PCAP.KD  2006  263.012374  \n",
       "4322452  NY.GDP.PCAP.KD  2007  291.128823  \n",
       "4502763  NY.GDP.PCAP.KD  2008  294.238183  \n",
       "4682308  NY.GDP.PCAP.KD  2009  347.208097  \n",
       "4862365  NY.GDP.PCAP.KD  2010  366.324813  \n",
       "5047724  NY.GDP.PCAP.KD  2011  377.292766  \n",
       "5223950  NY.GDP.PCAP.KD  2012  418.426197  \n",
       "5397193  NY.GDP.PCAP.KD  2013  413.335227  \n",
       "5546497  NY.GDP.PCAP.KD  2014  406.248136  "
      ]
     },
     "execution_count": 38,
     "metadata": {},
     "output_type": "execute_result"
    }
   ],
   "source": [
    "#GDP per capita indicator table from 2004 to 2014.\n",
    "gdp_stage.head(11)"
   ]
  },
  {
   "cell_type": "code",
   "execution_count": 15,
   "id": "8a0ff659",
   "metadata": {
    "scrolled": true
   },
   "outputs": [
    {
     "name": "stderr",
     "output_type": "stream",
     "text": [
      "/var/folders/88/vlrz89sn15jdmcdgfjsnyvjw0000gn/T/ipykernel_61648/1144829025.py:1: SettingWithCopyWarning: \n",
      "A value is trying to be set on a copy of a slice from a DataFrame\n",
      "\n",
      "See the caveats in the documentation: https://pandas.pydata.org/pandas-docs/stable/user_guide/indexing.html#returning-a-view-versus-a-copy\n",
      "  gdp_stage.drop(gdp_stage.index[0:2], inplace=True)\n"
     ]
    }
   ],
   "source": [
    "#Dropping rows to match the size of stages for scatter plot and correlation analysis.\n",
    "\n",
    "gdp_stage.drop(gdp_stage.index[0:2], inplace=True)"
   ]
  },
  {
   "cell_type": "code",
   "execution_count": 131,
   "id": "61084ff9",
   "metadata": {},
   "outputs": [
    {
     "name": "stdout",
     "output_type": "stream",
     "text": [
      "2002\n"
     ]
    }
   ],
   "source": [
    "print(min(gdp_stage['Year'].values))"
   ]
  },
  {
   "cell_type": "code",
   "execution_count": 132,
   "id": "7c113465",
   "metadata": {
    "scrolled": true
   },
   "outputs": [
    {
     "name": "stdout",
     "output_type": "stream",
     "text": [
      "2014\n"
     ]
    }
   ],
   "source": [
    "print(max(gdp_stage['Year'].values))"
   ]
  },
  {
   "cell_type": "markdown",
   "id": "989d6e17",
   "metadata": {},
   "source": [
    "#### Figure 2. GDP per capita (constant 2005 US Dollar) indicator of Afghanistan from 2004 to 2014 Bar Chart.\n"
   ]
  },
  {
   "cell_type": "code",
   "execution_count": 112,
   "id": "9c981e57",
   "metadata": {},
   "outputs": [
    {
     "data": {
      "image/png": "[encoded data removed]",
      "text/plain": [
       "<Figure size 432x288 with 1 Axes>"
      ]
     },
     "metadata": {
      "needs_background": "light"
     },
     "output_type": "display_data"
    }
   ],
   "source": [
    "fig, axis = plt.subplots()\n",
    "# switch to a line plot\n",
    "plt.bar(gdp_stage['Year'].values, gdp_stage['Value'].values, color = '#fecea8')\n",
    "\n",
    "# Label the axes\n",
    "plt.xlabel('Year')\n",
    "plt.ylabel(gdp_stage['IndicatorName'].iloc[0])\n",
    "\n",
    "\n",
    "#label the figure\n",
    "plt.title('GDP per capita of Afghanistan (AFG) from 2004 to 2014')\n",
    "\n",
    "# to make more honest, start they y axis at 0\n",
    "plt.axis([2003, 2015,0,450])\n",
    "\n",
    "# adding the annotations\n",
    "for y, x in zip(gdp_stage['Value'].values, gdp_stage['Year'].values):\n",
    "    plt.annotate(f'{int(y)}$\\n',xycoords='data', xy=(x, y), ha='center', va='center')\n",
    "\n",
    "#axis.yaxis.grid(True)\n",
    "\n",
    "    \n",
    "plt.show()\n",
    "\n",
    "\n"
   ]
  },
  {
   "cell_type": "code",
   "execution_count": 40,
   "id": "b2c60c5d",
   "metadata": {
    "scrolled": true
   },
   "outputs": [
    {
     "data": {
      "text/html": [
       "<div>\n",
       "<style scoped>\n",
       "    .dataframe tbody tr th:only-of-type {\n",
       "        vertical-align: middle;\n",
       "    }\n",
       "\n",
       "    .dataframe tbody tr th {\n",
       "        vertical-align: top;\n",
       "    }\n",
       "\n",
       "    .dataframe thead th {\n",
       "        text-align: right;\n",
       "    }\n",
       "</style>\n",
       "<table border=\"1\" class=\"dataframe\">\n",
       "  <thead>\n",
       "    <tr style=\"text-align: right;\">\n",
       "      <th></th>\n",
       "      <th>CountryName</th>\n",
       "      <th>CountryCode</th>\n",
       "      <th>IndicatorName</th>\n",
       "      <th>IndicatorCode</th>\n",
       "      <th>Year</th>\n",
       "      <th>Value</th>\n",
       "    </tr>\n",
       "  </thead>\n",
       "  <tbody>\n",
       "    <tr>\n",
       "      <th>3803733</th>\n",
       "      <td>Afghanistan</td>\n",
       "      <td>AFG</td>\n",
       "      <td>GDP per capita (constant 2005 US$)</td>\n",
       "      <td>NY.GDP.PCAP.KD</td>\n",
       "      <td>2004</td>\n",
       "      <td>240.184904</td>\n",
       "    </tr>\n",
       "    <tr>\n",
       "      <th>3964959</th>\n",
       "      <td>Afghanistan</td>\n",
       "      <td>AFG</td>\n",
       "      <td>GDP per capita (constant 2005 US$)</td>\n",
       "      <td>NY.GDP.PCAP.KD</td>\n",
       "      <td>2005</td>\n",
       "      <td>257.175795</td>\n",
       "    </tr>\n",
       "    <tr>\n",
       "      <th>4144830</th>\n",
       "      <td>Afghanistan</td>\n",
       "      <td>AFG</td>\n",
       "      <td>GDP per capita (constant 2005 US$)</td>\n",
       "      <td>NY.GDP.PCAP.KD</td>\n",
       "      <td>2006</td>\n",
       "      <td>263.012374</td>\n",
       "    </tr>\n",
       "    <tr>\n",
       "      <th>4322452</th>\n",
       "      <td>Afghanistan</td>\n",
       "      <td>AFG</td>\n",
       "      <td>GDP per capita (constant 2005 US$)</td>\n",
       "      <td>NY.GDP.PCAP.KD</td>\n",
       "      <td>2007</td>\n",
       "      <td>291.128823</td>\n",
       "    </tr>\n",
       "    <tr>\n",
       "      <th>4502763</th>\n",
       "      <td>Afghanistan</td>\n",
       "      <td>AFG</td>\n",
       "      <td>GDP per capita (constant 2005 US$)</td>\n",
       "      <td>NY.GDP.PCAP.KD</td>\n",
       "      <td>2008</td>\n",
       "      <td>294.238183</td>\n",
       "    </tr>\n",
       "    <tr>\n",
       "      <th>4682308</th>\n",
       "      <td>Afghanistan</td>\n",
       "      <td>AFG</td>\n",
       "      <td>GDP per capita (constant 2005 US$)</td>\n",
       "      <td>NY.GDP.PCAP.KD</td>\n",
       "      <td>2009</td>\n",
       "      <td>347.208097</td>\n",
       "    </tr>\n",
       "    <tr>\n",
       "      <th>4862365</th>\n",
       "      <td>Afghanistan</td>\n",
       "      <td>AFG</td>\n",
       "      <td>GDP per capita (constant 2005 US$)</td>\n",
       "      <td>NY.GDP.PCAP.KD</td>\n",
       "      <td>2010</td>\n",
       "      <td>366.324813</td>\n",
       "    </tr>\n",
       "    <tr>\n",
       "      <th>5047724</th>\n",
       "      <td>Afghanistan</td>\n",
       "      <td>AFG</td>\n",
       "      <td>GDP per capita (constant 2005 US$)</td>\n",
       "      <td>NY.GDP.PCAP.KD</td>\n",
       "      <td>2011</td>\n",
       "      <td>377.292766</td>\n",
       "    </tr>\n",
       "    <tr>\n",
       "      <th>5223950</th>\n",
       "      <td>Afghanistan</td>\n",
       "      <td>AFG</td>\n",
       "      <td>GDP per capita (constant 2005 US$)</td>\n",
       "      <td>NY.GDP.PCAP.KD</td>\n",
       "      <td>2012</td>\n",
       "      <td>418.426197</td>\n",
       "    </tr>\n",
       "    <tr>\n",
       "      <th>5397193</th>\n",
       "      <td>Afghanistan</td>\n",
       "      <td>AFG</td>\n",
       "      <td>GDP per capita (constant 2005 US$)</td>\n",
       "      <td>NY.GDP.PCAP.KD</td>\n",
       "      <td>2013</td>\n",
       "      <td>413.335227</td>\n",
       "    </tr>\n",
       "    <tr>\n",
       "      <th>5546497</th>\n",
       "      <td>Afghanistan</td>\n",
       "      <td>AFG</td>\n",
       "      <td>GDP per capita (constant 2005 US$)</td>\n",
       "      <td>NY.GDP.PCAP.KD</td>\n",
       "      <td>2014</td>\n",
       "      <td>406.248136</td>\n",
       "    </tr>\n",
       "  </tbody>\n",
       "</table>\n",
       "</div>"
      ],
      "text/plain": [
       "         CountryName CountryCode                       IndicatorName  \\\n",
       "3803733  Afghanistan         AFG  GDP per capita (constant 2005 US$)   \n",
       "3964959  Afghanistan         AFG  GDP per capita (constant 2005 US$)   \n",
       "4144830  Afghanistan         AFG  GDP per capita (constant 2005 US$)   \n",
       "4322452  Afghanistan         AFG  GDP per capita (constant 2005 US$)   \n",
       "4502763  Afghanistan         AFG  GDP per capita (constant 2005 US$)   \n",
       "4682308  Afghanistan         AFG  GDP per capita (constant 2005 US$)   \n",
       "4862365  Afghanistan         AFG  GDP per capita (constant 2005 US$)   \n",
       "5047724  Afghanistan         AFG  GDP per capita (constant 2005 US$)   \n",
       "5223950  Afghanistan         AFG  GDP per capita (constant 2005 US$)   \n",
       "5397193  Afghanistan         AFG  GDP per capita (constant 2005 US$)   \n",
       "5546497  Afghanistan         AFG  GDP per capita (constant 2005 US$)   \n",
       "\n",
       "          IndicatorCode  Year       Value  \n",
       "3803733  NY.GDP.PCAP.KD  2004  240.184904  \n",
       "3964959  NY.GDP.PCAP.KD  2005  257.175795  \n",
       "4144830  NY.GDP.PCAP.KD  2006  263.012374  \n",
       "4322452  NY.GDP.PCAP.KD  2007  291.128823  \n",
       "4502763  NY.GDP.PCAP.KD  2008  294.238183  \n",
       "4682308  NY.GDP.PCAP.KD  2009  347.208097  \n",
       "4862365  NY.GDP.PCAP.KD  2010  366.324813  \n",
       "5047724  NY.GDP.PCAP.KD  2011  377.292766  \n",
       "5223950  NY.GDP.PCAP.KD  2012  418.426197  \n",
       "5397193  NY.GDP.PCAP.KD  2013  413.335227  \n",
       "5546497  NY.GDP.PCAP.KD  2014  406.248136  "
      ]
     },
     "execution_count": 40,
     "metadata": {},
     "output_type": "execute_result"
    }
   ],
   "source": [
    "gdp_stage"
   ]
  },
  {
   "cell_type": "code",
   "execution_count": 45,
   "id": "6fe57fc6",
   "metadata": {},
   "outputs": [
    {
     "name": "stdout",
     "output_type": "stream",
     "text": [
      "GDP per capita Min Year =  2004 max:  2014\n",
      "Internet users Min Year =  2004 max:  2014\n"
     ]
    }
   ],
   "source": [
    "print(\"GDP per capita Min Year = \", gdp_stage['Year'].min(), \"max: \", gdp_stage['Year'].max())\n",
    "print(\"Internet users Min Year = \", net_user_stage['Year'].min(), \"max: \", net_user_stage['Year'].max())"
   ]
  },
  {
   "cell_type": "markdown",
   "id": "241fbae3",
   "metadata": {},
   "source": [
    "#### Figure 3. GDP per capita (constant 2005 US Dollar) vs Internet user (per 100 people) indicator of Afghanistan from 2004 to 2014 scatter plot."
   ]
  },
  {
   "cell_type": "code",
   "execution_count": 57,
   "id": "662177c7",
   "metadata": {
    "scrolled": true
   },
   "outputs": [
    {
     "data": {
      "text/plain": [
       "<matplotlib.collections.PathCollection at 0x7f8f5015cee0>"
      ]
     },
     "execution_count": 57,
     "metadata": {},
     "output_type": "execute_result"
    },
    {
     "data": {
      "image/png": "[encoded data removed]",
      "text/plain": [
       "<Figure size 432x288 with 1 Axes>"
      ]
     },
     "metadata": {
      "needs_background": "light"
     },
     "output_type": "display_data"
    }
   ],
   "source": [
    "fig, axis = plt.subplots()\n",
    "\n",
    "# Grid lines, Xticks, Xlabel, Ylabel\n",
    "\n",
    "axis.yaxis.grid(True)\n",
    "axis.set_title('GDP (per capita) vs. Internet Users (per 100 people)',fontsize=10)\n",
    "axis.set_xlabel(gdp_stage['IndicatorName'].iloc[0],fontsize=10)\n",
    "axis.set_ylabel(net_user_stage['IndicatorName'].iloc[0],fontsize=10)\n",
    "\n",
    "X = gdp_stage['Value']\n",
    "Y = net_user_stage['Value']\n",
    "\n",
    "#changing the line color to Orange. \n",
    "#calculating the slope and y intercept, m = slope, b=intercept.\n",
    "#add line of best fit (linear regression line)\n",
    "\n",
    "plt.plot(X, Y, 'o')\n",
    "m, b = np.polyfit(X, Y, 1)\n",
    "plt.plot(X, m*X + b)\n",
    "\n",
    "#visualizing the scatter plot.\n",
    "axis.scatter(X, Y)\n"
   ]
  },
  {
   "cell_type": "markdown",
   "id": "26d7af9b",
   "metadata": {},
   "source": [
    "#### The correlation Coefficient of GDP per capita and Internet Users variables using np.corrcoef"
   ]
  },
  {
   "cell_type": "code",
   "execution_count": 123,
   "id": "c71e4972",
   "metadata": {},
   "outputs": [
    {
     "name": "stdout",
     "output_type": "stream",
     "text": [
      "[[1.         0.97345894]\n",
      " [0.97345894 1.        ]]\n"
     ]
    }
   ],
   "source": [
    "\n",
    "cor = np.corrcoef(gdp_stage['Value'], net_user_stage['Value'])\n",
    "print(cor)"
   ]
  },
  {
   "cell_type": "code",
   "execution_count": null,
   "id": "229e0b5f",
   "metadata": {},
   "outputs": [],
   "source": []
  }
 ],
 "metadata": {
  "kernelspec": {
   "display_name": "Python 3 (ipykernel)",
   "language": "python",
   "name": "python3"
  },
  "language_info": {
   "codemirror_mode": {
    "name": "ipython",
    "version": 3
   },
   "file_extension": ".py",
   "mimetype": "text/x-python",
   "name": "python",
   "nbconvert_exporter": "python",
   "pygments_lexer": "ipython3",
   "version": "3.9.12"
  }
 },
 "nbformat": 4,
 "nbformat_minor": 5
}
